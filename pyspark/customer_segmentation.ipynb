{
 "cells": [
  {
   "cell_type": "markdown",
   "metadata": {},
   "source": [
    "**Initial import & configuration**"
   ]
  },
  {
   "cell_type": "code",
   "execution_count": null,
   "metadata": {},
   "outputs": [],
   "source": [
    "pip install pyarrow"
   ]
  },
  {
   "cell_type": "code",
   "execution_count": 23,
   "metadata": {},
   "outputs": [],
   "source": [
    "from pyspark.sql.functions import *\n",
    "from pyspark.sql.types import *\n",
    "from pyspark.sql import SparkSession\n",
    "import pyarrow as pa\n",
    "import pyarrow.parquet as pq"
   ]
  },
  {
   "cell_type": "code",
   "execution_count": 24,
   "metadata": {},
   "outputs": [],
   "source": [
    "spark = SparkSession.builder\\\n",
    "        .appName(\"PysparkCustomerSegmentation\")\\\n",
    "        .getOrCreate()"
   ]
  },
  {
   "cell_type": "markdown",
   "metadata": {},
   "source": [
    "**JSON configuration**"
   ]
  },
  {
   "cell_type": "code",
   "execution_count": null,
   "metadata": {},
   "outputs": [],
   "source": [
    "config = spark.read.option(\"multiline\",\"true\").json(\"C:/Users/Maciek/Desktop/pyspark/config_file.json\")\n",
    "config.printSchema()"
   ]
  },
  {
   "cell_type": "code",
   "execution_count": null,
   "metadata": {},
   "outputs": [],
   "source": [
    "source_config = config.withColumn(\"sources\", explode(col(\"sources\"))).select(\"sources.*\")\n",
    "source_config.show()\n",
    "source_config = source_config.collect()"
   ]
  },
  {
   "cell_type": "markdown",
   "metadata": {},
   "source": [
    "**Ingest data from csv files with json congifuration**"
   ]
  },
  {
   "cell_type": "code",
   "execution_count": 27,
   "metadata": {},
   "outputs": [],
   "source": [
    "def load_data():\n",
    "\n",
    "    for i in range(len(source_config)):\n",
    "\n",
    "        source = source_config[i]\n",
    "\n",
    "        df_name = f\"df_{source['table_name']}\"\n",
    "\n",
    "        config_schema = source['schema']\n",
    "\n",
    "        schema = StructType([\n",
    "            StructField(field['name'], IntegerType() if field['type'] == \"integer\" else\n",
    "                                              (StringType() if field['type'] == \"string\" else\n",
    "                                              (DateType() if field['type'] == \"date\" else\n",
    "                                              (TimestampType() if field['type'] == \"timestamp\" else\n",
    "                                              (FloatType() if field['type'] == \"float\" else\n",
    "                                              (BooleanType() if field['type'] == \"boolean\" else StringType()))))),\n",
    "            True\n",
    "        )\n",
    "            for field in config_schema['fields']\n",
    "        ])\n",
    "\n",
    "        globals()[df_name] = spark.read.format(\"csv\")\\\n",
    "                                .option(\"header\",\"true\")\\\n",
    "                                .option(\"delimiter\", ';')\\\n",
    "                                .schema(schema)\\\n",
    "                                .csv(source['path'])"
   ]
  },
  {
   "cell_type": "code",
   "execution_count": null,
   "metadata": {},
   "outputs": [],
   "source": [
    "load_data()\n",
    "\n",
    "df_DimCustomer.show()\n",
    "df_SalesOnline.show()\n",
    "df_vSales.show()"
   ]
  },
  {
   "cell_type": "markdown",
   "metadata": {},
   "source": [
    "**Data tranform & aggregations for customer segmentation**"
   ]
  },
  {
   "cell_type": "code",
   "execution_count": null,
   "metadata": {},
   "outputs": [],
   "source": [
    "df_vSales = df_vSales.drop(col(\"OrderDate\"))\n",
    "df = df_SalesOnline.join(df_vSales, on=\"OrderID\", how=\"left\")\n",
    "df = df.filter(col(\"Customer\") != 'purchase without registration')\n",
    "df = df.groupby(\"CustomerID\").agg(\\\n",
    "                                    round(sum(col(\"SalesAmount\")),2).alias(\"TotalSpends\"),\\\n",
    "                                    sum(col(\"PositionCount\")).alias(\"PurchasedItems\"),\\\n",
    "                                    count(col(\"OrderID\")).alias(\"OrdersCount\"),\\\n",
    "                                    min(col(\"OrderDate\")).alias(\"FirstOrder\"),\\\n",
    "                                    max(col(\"OrderDate\")).alias(\"LastOrder\")\n",
    "                                    )\n",
    "df = df\\\n",
    "        .withColumn(\"AverageBasketSize\", round(df.PurchasedItems/df.OrdersCount,2))\\\n",
    "        .withColumn(\"AverageBasketValue\", round(df.TotalSpends/df.OrdersCount,2))\n",
    "df.show()"
   ]
  },
  {
   "cell_type": "code",
   "execution_count": 30,
   "metadata": {},
   "outputs": [
    {
     "name": "stdout",
     "output_type": "stream",
     "text": [
      "+----------+----------+------------+----------+------+----+-------------+---------------------+---------+----+-------------+------------------+------------------+-----------+--------------+-----------+--------------------+--------------------+-----------------+------------------+\n",
      "|CustomerID| FirstName|    LastName| BirthDate|Gender|Kids|MartialStatus|CorrespondenceAddress|     City| Age|AgeSexSegment|     FamilySegment|DemographicSegment|TotalSpends|PurchasedItems|OrdersCount|          FirstOrder|           LastOrder|AverageBasketSize|AverageBasketValue|\n",
      "+----------+----------+------------+----------+------+----+-------------+---------------------+---------+----+-------------+------------------+------------------+-----------+--------------+-----------+--------------------+--------------------+-----------------+------------------+\n",
      "|       155|     Marek|   Zieliński|1985-06-30|     M|   0|     divorced| ul. Przybyszewski...|Pabianice|38.0|          M35|            single|small town/village|     617.93|             6|          5| 2023-06-02 00:00:00| 2023-09-15 00:00:00|              1.2|            123.59|\n",
      "|       183|   Mariusz|   Pawłowski|1990-11-27|     M|   0|       single| ul. Mickiewicza 6...|   Kraków|33.0|          M26|            single|          big city|     837.33|             5|          4| 2023-06-12 00:00:00| 2023-10-06 00:00:00|             1.25|            209.33|\n",
      "|       159|Aleksandra|     Nowicka|1998-08-22|     F|   0|       single| ul. Jagiellońska ...|   Kraków|25.0|          F18|            single|          big city|     199.89|             9|          5| 2023-06-03 00:00:00| 2023-09-18 00:00:00|              1.8|             39.98|\n",
      "|       157|   Natalia|      Wójcik|2000-12-01|     F|   2|      married| ul. Kościuszki 5/...|Myślenice|23.0|          F18|       mother&wife|small town/village|      865.1|             9|          5| 2023-06-02 00:00:00| 2023-09-16 00:00:00|              1.8|            173.02|\n",
      "|       190|    Maciej|Gruszczyński|1995-11-10|     M|   0|       single| Poziomkowa 1, 61-...|   Poznań|28.0|          M26|            single|          big city|     390.97|             2|          1|2023-10-14 19:04:...|2023-10-14 19:04:...|              2.0|            390.97|\n",
      "|       177|      Anna|   Szymańska|1994-06-15|     F|   1|      married| ul. Sienkiewicza ...|   Lublin|29.0|          F26|       mother&wife|              city|     494.01|             9|          6| 2023-06-10 00:00:00| 2023-10-01 00:00:00|              1.5|             82.34|\n",
      "|       152|       Jan|    Kowalski|1988-07-02|     M|   2|      married| ul. Mickiewicza 1...|   Kraków|35.0|          M35|head of the family|          big city|     582.92|             6|          5| 2023-06-15 00:00:00| 2023-09-12 00:00:00|              1.2|            116.58|\n",
      "|       185|   Natalia|      Wójcik|1998-06-21|     F|   1|      married| ul. Mickiewicza 1...|   Lublin|25.0|          F18|       mother&wife|              city|     131.92|             5|          3| 2023-07-12 00:00:00| 2023-10-07 00:00:00|             1.67|             43.97|\n",
      "|       182|  Karolina|     Nowicka|1995-09-12|     F|   1|      married| ul. Wrocławska 14...|  Wrocław|28.0|          F26|       mother&wife|          big city|     790.51|             5|          4| 2023-06-25 00:00:00| 2023-10-05 00:00:00|             1.25|            197.63|\n",
      "|       168|     Paweł|   Krajewski|1993-04-15|     M|   1|      married| ul. Mickiewicza 5...|   Kraków|31.0|          M26|head of the family|          big city|    1018.34|             7|          5| 2023-06-06 00:00:00| 2023-09-24 00:00:00|              1.4|            203.67|\n",
      "|       178|     Paweł|   Kowalczyk|1997-09-20|     M|   0|       single| ul. Wojska Polski...|  Wrocław|26.0|          M26|            single|          big city|     807.37|             9|          5| 2023-06-24 00:00:00| 2023-10-02 00:00:00|              1.8|            161.47|\n",
      "|       164|     Kamil|   Pawłowski|1991-06-08|     M|   0|       single| ul. Długa 12/7, 8...|   Gdańsk|32.0|          M26|            single|          big city|     288.53|             6|          5| 2023-06-19 00:00:00| 2023-09-21 00:00:00|              1.2|             57.71|\n",
      "|       169|  Dominika|     Zawisza|1997-05-21|     F|   0|       single| ul. Leśna 3/9, 60...|   Poznań|26.0|          F26|            single|          big city|     815.16|             6|          3| 2023-07-06 00:00:00| 2023-09-25 00:00:00|              2.0|            271.72|\n",
      "|       163|     Kinga|   Kowalczyk|1987-04-14|     F|   1|     divorced| ul. Górna 9/5, 90...|     Łódź|37.0|          F35|     single mother|          big city|     884.92|             8|          5| 2023-06-04 00:00:00| 2023-09-21 00:00:00|              1.6|            176.98|\n",
      "|       154|    Alicja|         Lis|2002-04-20|     F|   1|       single| ul. Górna 15/2, 7...| Szczecin|21.0|          F18|     single mother|              city|     971.91|             8|          5| 2023-06-16 00:00:00| 2023-09-14 00:00:00|              1.6|            194.38|\n",
      "|       165|   Bartosz|   Jabłoński|1993-12-19|     M|   0|       single| ul. Wojska Polski...|  Wrocław|30.0|          M26|            single|          big city|     611.32|             7|          4| 2023-07-05 00:00:00| 2023-09-22 00:00:00|             1.75|            152.83|\n",
      "|       179|    Monika|  Piotrowska|1988-12-25|     F|   2|      married| ul. Górna 6, 90-3...|     Łódź|35.0|          F35|       mother&wife|          big city|     647.74|             8|          5| 2023-06-11 00:00:00| 2023-10-03 00:00:00|              1.6|            129.55|\n",
      "|       175|    Marcin|   Witkowski|1996-11-22|     M|   0|       single| ul. Leśna 12/8, 6...|   Poznań|27.0|          M26|            single|          big city|     925.18|             7|          5| 2023-06-10 00:00:00| 2023-09-30 00:00:00|              1.4|            185.04|\n",
      "|       173|  Grzegorz|  Nowakowski|1987-07-14|     M|   0|       single| ul. Piastowska 7,...|   Gdańsk|36.0|          M35|            single|          big city|     172.05|             4|          3| 2023-07-08 00:00:00| 2023-09-28 00:00:00|             1.33|             57.35|\n",
      "|       161|  Wiktoria|   Dąbrowska|1997-11-30|     F|   2|      married| ul. Mickiewicza 7...| Katowice|26.0|          F26|       mother&wife|              city|     705.31|             8|          5| 2023-06-04 00:00:00| 2023-09-19 00:00:00|              1.6|            141.06|\n",
      "+----------+----------+------------+----------+------+----+-------------+---------------------+---------+----+-------------+------------------+------------------+-----------+--------------+-----------+--------------------+--------------------+-----------------+------------------+\n",
      "only showing top 20 rows\n",
      "\n"
     ]
    }
   ],
   "source": [
    "df_DimCustomer = df_DimCustomer.drop(\"DeliveryAddress\")\n",
    "\n",
    "df_DimCustomer = \\\n",
    "    df_DimCustomer.withColumn(\"City\", substring_index(\"CorrespondenceAddress\",\" \",-1))\\\n",
    "                    .withColumn(\"Age\", round(datediff(current_date(),'BirthDate')/365.25,0))\\\n",
    "                    .withColumn(\"AgeSexSegment\", when((col(\"Gender\")==\"M\") & (col(\"Age\")<26), \"M18\")\\\n",
    "                                                .when((col(\"Gender\")==\"M\") & (col(\"Age\")<35), \"M26\")\\\n",
    "                                                .when((col(\"Gender\")==\"M\") & (col(\"Age\")<50), \"M35\")\\\n",
    "                                                .when((col(\"Gender\")==\"M\") & (col(\"Age\")>50), \"M50\")\\\n",
    "                                                .when((col(\"Gender\")==\"F\") & (col(\"Age\")<26), \"F18\")\\\n",
    "                                                .when((col(\"Gender\")==\"F\") & (col(\"Age\")<35), \"F26\")\\\n",
    "                                                .when((col(\"Gender\")==\"F\") & (col(\"Age\")<50), \"F35\")\\\n",
    "                                                .when((col(\"Gender\")==\"F\") & (col(\"Age\")>50), \"F50\"))\\\n",
    "                    .withColumn(\"FamilySegment\", when((col(\"Gender\")==\"M\") & (col(\"MartialStatus\")==\"married\") & (col(\"Kids\")>0), \"head of the family\")\\\n",
    "                                                .when((col(\"Gender\")==\"M\") & (col(\"MartialStatus\")==\"married\") & (col(\"Kids\")==0), \"husband\")\\\n",
    "                                                .when((col(\"Gender\")==\"M\") & (col(\"MartialStatus\")!=\"married\") & (col(\"Kids\")>0),\"father\")\\\n",
    "                                                .when((col(\"Gender\")==\"M\") & (col(\"MartialStatus\")!=\"married\"),\"single\")\\\n",
    "                                                .when((col(\"Gender\")==\"F\") & (col(\"MartialStatus\")==\"married\") & (col(\"Kids\")>0),\"mother&wife\")\\\n",
    "                                                .when((col(\"Gender\")==\"F\") & (col(\"MartialStatus\")==\"married\") & (col(\"Kids\")==0),\"wife\")\\\n",
    "                                                .when((col(\"Gender\")==\"F\") & (col(\"MartialStatus\")!=\"married\") & (col(\"Kids\")>0),\"single mother\")\\\n",
    "                                                .when((col(\"Gender\")==\"F\") & (col(\"MartialStatus\")!=\"married\"), \"single\"))\\\n",
    "                    .withColumn(\"DemographicSegment\",when(col(\"City\").isin([\"Warszawa\", \"Kraków\", \"Poznań\", \"Wrocław\", \"Łódź\", \"Gdańsk\"]), \"big city\")\\\n",
    "                                                .when(col(\"City\").isin([\"Katowice\", \"Szczecin\", \"Bydgoszcz\", \"Częstochowa\", \"Lublin\", \"Białystok\"]), \"city\")\\\n",
    "                                                .otherwise(\"small town/village\"))\n",
    "\n",
    "df = df_DimCustomer.join(df, on=\"CustomerID\", how=\"inner\")\n",
    "\n",
    "df.show()"
   ]
  },
  {
   "cell_type": "markdown",
   "metadata": {},
   "source": [
    "**Save results to parquet file**"
   ]
  },
  {
   "cell_type": "code",
   "execution_count": null,
   "metadata": {},
   "outputs": [],
   "source": [
    "pandas_df = df.toPandas()\n",
    "table = pa.Table.from_pandas(pandas_df)\n",
    "pq.write_table(table, \"C:/Users/Maciek/Desktop/pyspark/result/customer_segmentation.parquet\")"
   ]
  }
 ],
 "metadata": {
  "kernelspec": {
   "display_name": "Python 3",
   "language": "python",
   "name": "python3"
  },
  "language_info": {
   "codemirror_mode": {
    "name": "ipython",
    "version": 3
   },
   "file_extension": ".py",
   "mimetype": "text/x-python",
   "name": "python",
   "nbconvert_exporter": "python",
   "pygments_lexer": "ipython3",
   "version": "3.10.0"
  }
 },
 "nbformat": 4,
 "nbformat_minor": 2
}
