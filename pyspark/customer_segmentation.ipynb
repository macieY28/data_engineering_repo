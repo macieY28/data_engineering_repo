{
 "cells": [
  {
   "cell_type": "markdown",
   "metadata": {},
   "source": [
    "**Initial import & configuration**"
   ]
  },
  {
   "cell_type": "code",
   "execution_count": 11,
   "metadata": {},
   "outputs": [
    {
     "name": "stdout",
     "output_type": "stream",
     "text": [
      "Collecting pyarrowNote: you may need to restart the kernel to use updated packages.\n"
     ]
    },
    {
     "name": "stderr",
     "output_type": "stream",
     "text": [
      "WARNING: You are using pip version 21.2.3; however, version 23.3 is available.\n",
      "You should consider upgrading via the 'c:\\Users\\Maciek\\AppData\\Local\\Programs\\Python\\Python310\\python.exe -m pip install --upgrade pip' command.\n"
     ]
    },
    {
     "name": "stdout",
     "output_type": "stream",
     "text": [
      "\n",
      "  Downloading pyarrow-13.0.0-cp310-cp310-win_amd64.whl (24.3 MB)\n",
      "Requirement already satisfied: numpy>=1.16.6 in c:\\users\\maciek\\appdata\\local\\programs\\python\\python310\\lib\\site-packages (from pyarrow) (1.26.1)\n",
      "Installing collected packages: pyarrow\n",
      "Successfully installed pyarrow-13.0.0\n"
     ]
    }
   ],
   "source": [
    "pip install pyarrow"
   ]
  },
  {
   "cell_type": "code",
   "execution_count": 12,
   "metadata": {},
   "outputs": [],
   "source": [
    "from pyspark.sql.functions import *\n",
    "from pyspark.sql.types import *\n",
    "from pyspark.sql import SparkSession\n",
    "import pyarrow as pa\n",
    "import pyarrow.parquet as pq"
   ]
  },
  {
   "cell_type": "code",
   "execution_count": 13,
   "metadata": {},
   "outputs": [],
   "source": [
    "spark = SparkSession.builder\\\n",
    "        .appName(\"PysparkCustomerSegmentation\")\\\n",
    "        .getOrCreate()"
   ]
  },
  {
   "cell_type": "markdown",
   "metadata": {},
   "source": [
    "**JSON configuration**"
   ]
  },
  {
   "cell_type": "code",
   "execution_count": 14,
   "metadata": {},
   "outputs": [
    {
     "name": "stdout",
     "output_type": "stream",
     "text": [
      "root\n",
      " |-- sources: array (nullable = true)\n",
      " |    |-- element: struct (containsNull = true)\n",
      " |    |    |-- path: string (nullable = true)\n",
      " |    |    |-- schema: struct (nullable = true)\n",
      " |    |    |    |-- fields: array (nullable = true)\n",
      " |    |    |    |    |-- element: struct (containsNull = true)\n",
      " |    |    |    |    |    |-- name: string (nullable = true)\n",
      " |    |    |    |    |    |-- type: string (nullable = true)\n",
      " |    |    |-- table_name: string (nullable = true)\n",
      "\n"
     ]
    }
   ],
   "source": [
    "config = spark.read.option(\"multiline\",\"true\").json(\"C:/Users/Maciek/Desktop/pyspark/config_file.json\")\n",
    "config.printSchema()"
   ]
  },
  {
   "cell_type": "code",
   "execution_count": 15,
   "metadata": {},
   "outputs": [
    {
     "name": "stdout",
     "output_type": "stream",
     "text": [
      "+--------------------+--------------------+-----------+\n",
      "|                path|              schema| table_name|\n",
      "+--------------------+--------------------+-----------+\n",
      "|C:/Users/Maciek/D...|{[{CustomerID, in...|DimCustomer|\n",
      "|C:/Users/Maciek/D...|{[{OrderID, integ...|SalesOnline|\n",
      "|C:/Users/Maciek/D...|{[{OrderID, integ...|     vSales|\n",
      "+--------------------+--------------------+-----------+\n",
      "\n"
     ]
    }
   ],
   "source": [
    "source_config = config.withColumn(\"sources\", explode(col(\"sources\"))).select(\"sources.*\")\n",
    "source_config.show()\n",
    "source_config = source_config.collect()"
   ]
  },
  {
   "cell_type": "markdown",
   "metadata": {},
   "source": [
    "**Ingest data from csv files with json congifuration**"
   ]
  },
  {
   "cell_type": "code",
   "execution_count": 16,
   "metadata": {},
   "outputs": [],
   "source": [
    "def load_data():\n",
    "\n",
    "    for i in range(len(source_config)):\n",
    "\n",
    "        source = source_config[i]\n",
    "\n",
    "        df_name = f\"df_{source['table_name']}\"\n",
    "\n",
    "        config_schema = source['schema']\n",
    "\n",
    "        schema = StructType([\n",
    "            StructField(field['name'], IntegerType() if field['type'] == \"integer\" else\n",
    "                                              (StringType() if field['type'] == \"string\" else\n",
    "                                              (DateType() if field['type'] == \"date\" else\n",
    "                                              (TimestampType() if field['type'] == \"timestamp\" else\n",
    "                                              (FloatType() if field['type'] == \"float\" else\n",
    "                                              (BooleanType() if field['type'] == \"boolean\" else StringType()))))),\n",
    "            True\n",
    "        )\n",
    "            for field in config_schema['fields']\n",
    "        ])\n",
    "\n",
    "        globals()[df_name] = spark.read.format(\"csv\")\\\n",
    "                                .option(\"header\",\"true\")\\\n",
    "                                .option(\"delimiter\", ';')\\\n",
    "                                .schema(schema)\\\n",
    "                                .csv(source['path'])"
   ]
  },
  {
   "cell_type": "code",
   "execution_count": 17,
   "metadata": {},
   "outputs": [
    {
     "name": "stdout",
     "output_type": "stream",
     "text": [
      "+----------+----------+----------+----------+------+----+-------------+--------------------+---------------------+---------+-------+\n",
      "|CustomerID| FirstName|  LastName| BirthDate|Gender|Kids|MartialStatus|     DeliveryAddress|CorrespondenceAddress|StartTime|EndTime|\n",
      "+----------+----------+----------+----------+------+----+-------------+--------------------+---------------------+---------+-------+\n",
      "|       151|      Anna|Drzewiecka|1993-03-15|     F|   0|       single|ul. Bohra-Komorow...| ul. Wyścigowa 10,...|     NULL|   NULL|\n",
      "|       152|       Jan|  Kowalski|1988-07-02|     M|   2|      married|ul. Mickiewicza 1...| ul. Mickiewicza 1...|     NULL|   NULL|\n",
      "|       153|    Michał| Jankowski|1998-11-10|     M|   0|       single|ul. Piękna 9, 00-...| ul. Piękna 9, 00-...|     NULL|   NULL|\n",
      "|       154|    Alicja|       Lis|2002-04-20|     F|   1|       single|ul. Górna 15/2, 7...| ul. Górna 15/2, 7...|     NULL|   NULL|\n",
      "|       155|     Marek| Zieliński|1985-06-30|     M|   0|     divorced|ul. Kwiatowa 3/8,...| ul. Przybyszewski...|     NULL|   NULL|\n",
      "|       156| Krzysztof| Szymański|1997-01-05|     M|   0|       single|ul. Polna 7/3, 40...| ul. Polna 7/3, 40...|     NULL|   NULL|\n",
      "|       157|   Natalia|    Wójcik|2000-12-01|     F|   2|      married|ul. Mickiewicza 1...| ul. Kościuszki 5/...|     NULL|   NULL|\n",
      "|       158|      Adam| Kaczmarek|1996-05-07|     M|   1|      married|ul. Piastowska 5/...| ul. Aleja Grunwal...|     NULL|   NULL|\n",
      "|       159|Aleksandra|   Nowicka|1998-08-22|     F|   0|       single|ul. Jagiellońska ...| ul. Jagiellońska ...|     NULL|   NULL|\n",
      "|       160|   Mikołaj|Piotrowski|1994-10-12|     M|   3|      married|ul. Kościuszki 10...| ul. Kościuszki 10...|     NULL|   NULL|\n",
      "|       161|  Wiktoria| Dąbrowska|1997-11-30|     F|   2|      married|ul. Mickiewicza 7...| ul. Mickiewicza 7...|     NULL|   NULL|\n",
      "|       162|    Łukasz| Witkowski|2001-01-25|     M|   0|       single|ul. Parkowa 6, 20...| ul. Parkowa 6, 20...|     NULL|   NULL|\n",
      "|       163|     Kinga| Kowalczyk|1987-04-14|     F|   1|     divorced|ul. Górna 9/5, 90...| ul. Górna 9/5, 90...|     NULL|   NULL|\n",
      "|       164|     Kamil| Pawłowski|1991-06-08|     M|   0|       single|ul. Długa 12/7, 8...| ul. Długa 12/7, 8...|     NULL|   NULL|\n",
      "|       165|   Bartosz| Jabłoński|1993-12-19|     M|   0|       single|ul. Wojska Polski...| ul. Wojska Polski...|     NULL|   NULL|\n",
      "|       166|    Monika|  Krawczyk|1995-02-27|     F|   0|       single|ul. Bohaterów War...| ul. Bohaterów War...|     NULL|   NULL|\n",
      "|       167|    Damian|     Kowal|1990-08-03|     M|   2|      married|ul. Słoneczna 7/2...| ul. Słoneczna 7/2...|     NULL|   NULL|\n",
      "|       168|     Paweł| Krajewski|1993-04-15|     M|   1|      married|ul. Mickiewicza 5...| ul. Mickiewicza 5...|     NULL|   NULL|\n",
      "|       169|  Dominika|   Zawisza|1997-05-21|     F|   0|       single|ul. Leśna 3/9, 60...| ul. Leśna 3/9, 60...|     NULL|   NULL|\n",
      "|       170|     Artur|    Kaczor|2000-09-11|     M|   0|       single|ul. Piastowska 10...| ul. Piastowska 10...|     NULL|   NULL|\n",
      "+----------+----------+----------+----------+------+----+-------------+--------------------+---------------------+---------+-------+\n",
      "only showing top 20 rows\n",
      "\n",
      "+-------+-------------------+------------+----------+----------+-------+\n",
      "|OrderID|          OrderDate|DeliveryDate|CustomerID|DeliveryID|Invoice|\n",
      "+-------+-------------------+------------+----------+----------+-------+\n",
      "|  10001|2023-06-01 00:00:00|  2023-06-04|       153|         2|      0|\n",
      "|  10002|2023-06-02 00:00:00|  2023-06-04|       155|         1|      1|\n",
      "|  10003|2023-06-02 00:00:00|  2023-06-04|       157|         3|      0|\n",
      "|  10004|2023-06-03 00:00:00|  2023-06-06|      NULL|         2|      1|\n",
      "|  10005|2023-06-03 00:00:00|  2023-06-06|       159|         1|      0|\n",
      "|  10006|2023-06-04 00:00:00|  2023-06-05|       161|         2|      1|\n",
      "|  10007|2023-06-04 00:00:00|  2023-06-06|       163|         3|      0|\n",
      "|  10008|2023-06-05 00:00:00|  2023-06-07|      NULL|         1|      1|\n",
      "|  10009|2023-06-05 00:00:00|  2023-06-09|       166|         2|      0|\n",
      "|  10010|2023-06-06 00:00:00|  2023-06-08|       168|         1|      1|\n",
      "|  10011|2023-06-06 00:00:00|  2023-06-09|      NULL|         3|      0|\n",
      "|  10012|2023-06-07 00:00:00|  2023-06-10|      NULL|         3|      1|\n",
      "|  10013|2023-06-08 00:00:00|  2023-06-11|       170|         2|      0|\n",
      "|  10014|2023-06-08 00:00:00|  2023-06-12|       172|         1|      1|\n",
      "|  10015|2023-06-09 00:00:00|  2023-06-12|      NULL|         3|      0|\n",
      "|  10016|2023-06-10 00:00:00|  2023-06-14|       175|         1|      0|\n",
      "|  10017|2023-06-10 00:00:00|  2023-06-15|       177|         2|      1|\n",
      "|  10018|2023-06-11 00:00:00|  2023-06-14|       179|         3|      0|\n",
      "|  10019|2023-06-11 00:00:00|  2023-06-15|      NULL|         1|      1|\n",
      "|  10020|2023-06-12 00:00:00|  2023-06-16|       181|         2|      0|\n",
      "+-------+-------------------+------------+----------+----------+-------+\n",
      "only showing top 20 rows\n",
      "\n",
      "+-------+-------------------+------------+--------------------+--------------------+-----------+-------------+-----------+-------------+\n",
      "|OrderID|          OrderDate|DeliveryDate|     DeliveryAddress|            Customer|SalesAmount|DeliveryPrice|TotalAmount|PositionCount|\n",
      "+-------+-------------------+------------+--------------------+--------------------+-----------+-------------+-----------+-------------+\n",
      "|  10001|2023-06-01 00:00:00|  2023-06-04|ul. Piękna 9, 00-...|    Michał Jankowski|     219.97|        14.99|     234.96|            2|\n",
      "|  10002|2023-06-02 00:00:00|  2023-06-04|ul. Kwiatowa 3/8,...|     Marek Zieliński|     169.99|        14.99|     184.98|            1|\n",
      "|  10003|2023-06-02 00:00:00|  2023-06-04|ul. Mickiewicza 1...|      Natalia Wójcik|      39.98|        12.99|      52.97|            1|\n",
      "|  10004|2023-06-03 00:00:00|  2023-06-06|                NULL|purchase without ...|      89.97|        14.99|     104.96|            1|\n",
      "|  10005|2023-06-03 00:00:00|  2023-06-06|ul. Jagiellońska ...|  Aleksandra Nowicka|      73.97|        14.99|      88.96|            3|\n",
      "|  10006|2023-06-04 00:00:00|  2023-06-05|ul. Mickiewicza 7...|  Wiktoria Dąbrowska|     211.97|        14.99|     226.96|            2|\n",
      "|  10007|2023-06-04 00:00:00|  2023-06-06|ul. Górna 9/5, 90...|     Kinga Kowalczyk|      35.99|        12.99|      48.98|            1|\n",
      "|  10008|2023-06-05 00:00:00|  2023-06-07|                NULL|purchase without ...|     219.97|        14.99|     234.96|            2|\n",
      "|  10009|2023-06-05 00:00:00|  2023-06-09|ul. Bohaterów War...|     Monika Krawczyk|     169.99|        14.99|     184.98|            1|\n",
      "|  10010|2023-06-06 00:00:00|  2023-06-08|ul. Mickiewicza 5...|     Paweł Krajewski|      18.99|        14.99|      33.98|            1|\n",
      "|  10011|2023-06-06 00:00:00|  2023-06-09|                NULL|purchase without ...|      59.98|        12.99|      72.97|            1|\n",
      "|  10012|2023-06-07 00:00:00|  2023-06-10|                NULL|purchase without ...|      73.97|        12.99|      86.96|            3|\n",
      "|  10013|2023-06-08 00:00:00|  2023-06-11|ul. Piastowska 10...|        Artur Kaczor|     344.96|        14.99|     359.95|            2|\n",
      "|  10014|2023-06-08 00:00:00|  2023-06-12|ul. Długa 8/12, 8...|    Łukasz Zieliński|      43.98|        14.99|      58.97|            1|\n",
      "|  10015|2023-06-09 00:00:00|  2023-06-12|                NULL|purchase without ...|     475.95|        12.99|     488.94|            2|\n",
      "|  10016|2023-06-10 00:00:00|  2023-06-14|ul. Leśna 12/8, 6...|    Marcin Witkowski|     299.99|        14.99|     314.98|            1|\n",
      "|  10017|2023-06-10 00:00:00|  2023-06-15|ul. Sienkiewicza ...|      Anna Szymańska|      90.97|        14.99|     105.96|            2|\n",
      "|  10018|2023-06-11 00:00:00|  2023-06-14|ul. Górna 6, 90-3...|   Monika Piotrowska|     279.97|        12.99|     292.96|            2|\n",
      "|  10019|2023-06-11 00:00:00|  2023-06-15|                NULL|purchase without ...|      33.99|        14.99|      48.98|            1|\n",
      "|  10020|2023-06-12 00:00:00|  2023-06-16|ul. Słoneczna 3/7...|         Dominik Lis|     363.97|        14.99|     378.96|            2|\n",
      "+-------+-------------------+------------+--------------------+--------------------+-----------+-------------+-----------+-------------+\n",
      "only showing top 20 rows\n",
      "\n"
     ]
    }
   ],
   "source": [
    "load_data()\n",
    "\n",
    "df_DimCustomer.show()\n",
    "df_SalesOnline.show()\n",
    "df_vSales.show()"
   ]
  },
  {
   "cell_type": "markdown",
   "metadata": {},
   "source": [
    "**Data tranform & aggregations for customer segmentation**"
   ]
  },
  {
   "cell_type": "code",
   "execution_count": 18,
   "metadata": {},
   "outputs": [
    {
     "name": "stdout",
     "output_type": "stream",
     "text": [
      "+----------+-----------+--------------+-----------+--------------------+--------------------+-----------------+------------------+\n",
      "|CustomerID|TotalSpends|PurchasedItems|OrdersCount|          FirstOrder|           LastOrder|AverageBasketSize|AverageBasketValue|\n",
      "+----------+-----------+--------------+-----------+--------------------+--------------------+-----------------+------------------+\n",
      "|       155|     617.93|             6|          5| 2023-06-02 00:00:00| 2023-09-15 00:00:00|              1.2|            123.59|\n",
      "|       183|     837.33|             5|          4| 2023-06-12 00:00:00| 2023-10-06 00:00:00|             1.25|            209.33|\n",
      "|       159|     199.89|             9|          5| 2023-06-03 00:00:00| 2023-09-18 00:00:00|              1.8|             39.98|\n",
      "|       157|      865.1|             9|          5| 2023-06-02 00:00:00| 2023-09-16 00:00:00|              1.8|            173.02|\n",
      "|       190|     390.97|             2|          1|2023-10-14 19:04:...|2023-10-14 19:04:...|              2.0|            390.97|\n",
      "|       177|     494.01|             9|          6| 2023-06-10 00:00:00| 2023-10-01 00:00:00|              1.5|             82.34|\n",
      "|       152|     582.92|             6|          5| 2023-06-15 00:00:00| 2023-09-12 00:00:00|              1.2|            116.58|\n",
      "|       185|     131.92|             5|          3| 2023-07-12 00:00:00| 2023-10-07 00:00:00|             1.67|             43.97|\n",
      "|       182|     790.51|             5|          4| 2023-06-25 00:00:00| 2023-10-05 00:00:00|             1.25|            197.63|\n",
      "|       168|    1018.34|             7|          5| 2023-06-06 00:00:00| 2023-09-24 00:00:00|              1.4|            203.67|\n",
      "|       178|     807.37|             9|          5| 2023-06-24 00:00:00| 2023-10-02 00:00:00|              1.8|            161.47|\n",
      "|       164|     288.53|             6|          5| 2023-06-19 00:00:00| 2023-09-21 00:00:00|              1.2|             57.71|\n",
      "|       169|     815.16|             6|          3| 2023-07-06 00:00:00| 2023-09-25 00:00:00|              2.0|            271.72|\n",
      "|       163|     884.92|             8|          5| 2023-06-04 00:00:00| 2023-09-21 00:00:00|              1.6|            176.98|\n",
      "|       154|     971.91|             8|          5| 2023-06-16 00:00:00| 2023-09-14 00:00:00|              1.6|            194.38|\n",
      "|       165|     611.32|             7|          4| 2023-07-05 00:00:00| 2023-09-22 00:00:00|             1.75|            152.83|\n",
      "|       179|     647.74|             8|          5| 2023-06-11 00:00:00| 2023-10-03 00:00:00|              1.6|            129.55|\n",
      "|       175|     925.18|             7|          5| 2023-06-10 00:00:00| 2023-09-30 00:00:00|              1.4|            185.04|\n",
      "|       173|     172.05|             4|          3| 2023-07-08 00:00:00| 2023-09-28 00:00:00|             1.33|             57.35|\n",
      "|       161|     705.31|             8|          5| 2023-06-04 00:00:00| 2023-09-19 00:00:00|              1.6|            141.06|\n",
      "+----------+-----------+--------------+-----------+--------------------+--------------------+-----------------+------------------+\n",
      "only showing top 20 rows\n",
      "\n"
     ]
    }
   ],
   "source": [
    "df_vSales = df_vSales.drop(col(\"OrderDate\"))\n",
    "df = df_SalesOnline.join(df_vSales, on=\"OrderID\", how=\"left\")\n",
    "df = df.filter(col(\"Customer\") != 'purchase without registration')\n",
    "df = df.groupby(\"CustomerID\").agg(\\\n",
    "                                    round(sum(col(\"SalesAmount\")),2).alias(\"TotalSpends\"),\\\n",
    "                                    sum(col(\"PositionCount\")).alias(\"PurchasedItems\"),\\\n",
    "                                    count(col(\"OrderID\")).alias(\"OrdersCount\"),\\\n",
    "                                    min(col(\"OrderDate\")).alias(\"FirstOrder\"),\\\n",
    "                                    max(col(\"OrderDate\")).alias(\"LastOrder\")\n",
    "                                    )\n",
    "df = df\\\n",
    "        .withColumn(\"AverageBasketSize\", round(df.PurchasedItems/df.OrdersCount,2))\\\n",
    "        .withColumn(\"AverageBasketValue\", round(df.TotalSpends/df.OrdersCount,2))\n",
    "df.show()"
   ]
  },
  {
   "cell_type": "code",
   "execution_count": 19,
   "metadata": {},
   "outputs": [
    {
     "name": "stdout",
     "output_type": "stream",
     "text": [
      "+----------+----------+------------+----------+------+----+-------------+---------------------+---------+-------+---------+----+-------------+------------------+------------------+-----------+--------------+-----------+--------------------+--------------------+-----------------+------------------+\n",
      "|CustomerID| FirstName|    LastName| BirthDate|Gender|Kids|MartialStatus|CorrespondenceAddress|StartTime|EndTime|     City| Age|AgeSexSegment|     FamilySegment|DemographicSegment|TotalSpends|PurchasedItems|OrdersCount|          FirstOrder|           LastOrder|AverageBasketSize|AverageBasketValue|\n",
      "+----------+----------+------------+----------+------+----+-------------+---------------------+---------+-------+---------+----+-------------+------------------+------------------+-----------+--------------+-----------+--------------------+--------------------+-----------------+------------------+\n",
      "|       155|     Marek|   Zieliński|1985-06-30|     M|   0|     divorced| ul. Przybyszewski...|     NULL|   NULL|Pabianice|38.0|          M35|            single|small town/village|     617.93|             6|          5| 2023-06-02 00:00:00| 2023-09-15 00:00:00|              1.2|            123.59|\n",
      "|       183|   Mariusz|   Pawłowski|1990-11-27|     M|   0|       single| ul. Mickiewicza 6...|     NULL|   NULL|   Kraków|33.0|          M26|            single|          big city|     837.33|             5|          4| 2023-06-12 00:00:00| 2023-10-06 00:00:00|             1.25|            209.33|\n",
      "|       159|Aleksandra|     Nowicka|1998-08-22|     F|   0|       single| ul. Jagiellońska ...|     NULL|   NULL|   Kraków|25.0|          F18|            single|          big city|     199.89|             9|          5| 2023-06-03 00:00:00| 2023-09-18 00:00:00|              1.8|             39.98|\n",
      "|       157|   Natalia|      Wójcik|2000-12-01|     F|   2|      married| ul. Kościuszki 5/...|     NULL|   NULL|Myślenice|23.0|          F18|       mother&wife|small town/village|      865.1|             9|          5| 2023-06-02 00:00:00| 2023-09-16 00:00:00|              1.8|            173.02|\n",
      "|       190|    Maciej|Gruszczyński|1995-11-10|     M|   0|       single| Poziomkowa 1, 61-...|     NULL|   NULL|   Poznań|28.0|          M26|            single|          big city|     390.97|             2|          1|2023-10-14 19:04:...|2023-10-14 19:04:...|              2.0|            390.97|\n",
      "|       177|      Anna|   Szymańska|1994-06-15|     F|   1|      married| ul. Sienkiewicza ...|     NULL|   NULL|   Lublin|29.0|          F26|       mother&wife|              city|     494.01|             9|          6| 2023-06-10 00:00:00| 2023-10-01 00:00:00|              1.5|             82.34|\n",
      "|       152|       Jan|    Kowalski|1988-07-02|     M|   2|      married| ul. Mickiewicza 1...|     NULL|   NULL|   Kraków|35.0|          M35|head of the family|          big city|     582.92|             6|          5| 2023-06-15 00:00:00| 2023-09-12 00:00:00|              1.2|            116.58|\n",
      "|       185|   Natalia|      Wójcik|1998-06-21|     F|   1|      married| ul. Mickiewicza 1...|     NULL|   NULL|   Lublin|25.0|          F18|       mother&wife|              city|     131.92|             5|          3| 2023-07-12 00:00:00| 2023-10-07 00:00:00|             1.67|             43.97|\n",
      "|       182|  Karolina|     Nowicka|1995-09-12|     F|   1|      married| ul. Wrocławska 14...|     NULL|   NULL|  Wrocław|28.0|          F26|       mother&wife|          big city|     790.51|             5|          4| 2023-06-25 00:00:00| 2023-10-05 00:00:00|             1.25|            197.63|\n",
      "|       168|     Paweł|   Krajewski|1993-04-15|     M|   1|      married| ul. Mickiewicza 5...|     NULL|   NULL|   Kraków|31.0|          M26|head of the family|          big city|    1018.34|             7|          5| 2023-06-06 00:00:00| 2023-09-24 00:00:00|              1.4|            203.67|\n",
      "|       178|     Paweł|   Kowalczyk|1997-09-20|     M|   0|       single| ul. Wojska Polski...|     NULL|   NULL|  Wrocław|26.0|          M26|            single|          big city|     807.37|             9|          5| 2023-06-24 00:00:00| 2023-10-02 00:00:00|              1.8|            161.47|\n",
      "|       164|     Kamil|   Pawłowski|1991-06-08|     M|   0|       single| ul. Długa 12/7, 8...|     NULL|   NULL|   Gdańsk|32.0|          M26|            single|          big city|     288.53|             6|          5| 2023-06-19 00:00:00| 2023-09-21 00:00:00|              1.2|             57.71|\n",
      "|       169|  Dominika|     Zawisza|1997-05-21|     F|   0|       single| ul. Leśna 3/9, 60...|     NULL|   NULL|   Poznań|26.0|          F26|            single|          big city|     815.16|             6|          3| 2023-07-06 00:00:00| 2023-09-25 00:00:00|              2.0|            271.72|\n",
      "|       163|     Kinga|   Kowalczyk|1987-04-14|     F|   1|     divorced| ul. Górna 9/5, 90...|     NULL|   NULL|     Łódź|37.0|          F35|     single mother|          big city|     884.92|             8|          5| 2023-06-04 00:00:00| 2023-09-21 00:00:00|              1.6|            176.98|\n",
      "|       154|    Alicja|         Lis|2002-04-20|     F|   1|       single| ul. Górna 15/2, 7...|     NULL|   NULL| Szczecin|21.0|          F18|     single mother|              city|     971.91|             8|          5| 2023-06-16 00:00:00| 2023-09-14 00:00:00|              1.6|            194.38|\n",
      "|       165|   Bartosz|   Jabłoński|1993-12-19|     M|   0|       single| ul. Wojska Polski...|     NULL|   NULL|  Wrocław|30.0|          M26|            single|          big city|     611.32|             7|          4| 2023-07-05 00:00:00| 2023-09-22 00:00:00|             1.75|            152.83|\n",
      "|       179|    Monika|  Piotrowska|1988-12-25|     F|   2|      married| ul. Górna 6, 90-3...|     NULL|   NULL|     Łódź|35.0|          F35|       mother&wife|          big city|     647.74|             8|          5| 2023-06-11 00:00:00| 2023-10-03 00:00:00|              1.6|            129.55|\n",
      "|       175|    Marcin|   Witkowski|1996-11-22|     M|   0|       single| ul. Leśna 12/8, 6...|     NULL|   NULL|   Poznań|27.0|          M26|            single|          big city|     925.18|             7|          5| 2023-06-10 00:00:00| 2023-09-30 00:00:00|              1.4|            185.04|\n",
      "|       173|  Grzegorz|  Nowakowski|1987-07-14|     M|   0|       single| ul. Piastowska 7,...|     NULL|   NULL|   Gdańsk|36.0|          M35|            single|          big city|     172.05|             4|          3| 2023-07-08 00:00:00| 2023-09-28 00:00:00|             1.33|             57.35|\n",
      "|       161|  Wiktoria|   Dąbrowska|1997-11-30|     F|   2|      married| ul. Mickiewicza 7...|     NULL|   NULL| Katowice|26.0|          F26|       mother&wife|              city|     705.31|             8|          5| 2023-06-04 00:00:00| 2023-09-19 00:00:00|              1.6|            141.06|\n",
      "+----------+----------+------------+----------+------+----+-------------+---------------------+---------+-------+---------+----+-------------+------------------+------------------+-----------+--------------+-----------+--------------------+--------------------+-----------------+------------------+\n",
      "only showing top 20 rows\n",
      "\n"
     ]
    }
   ],
   "source": [
    "df_DimCustomer = df_DimCustomer.drop(\"DeliveryAddress\")\n",
    "\n",
    "df_DimCustomer = \\\n",
    "    df_DimCustomer.withColumn(\"City\", substring_index(\"CorrespondenceAddress\",\" \",-1))\\\n",
    "                    .withColumn(\"Age\", round(datediff(current_date(),'BirthDate')/365.25,0))\\\n",
    "                    .withColumn(\"AgeSexSegment\", when((col(\"Gender\")==\"M\") & (col(\"Age\")<26), \"M18\")\\\n",
    "                                                .when((col(\"Gender\")==\"M\") & (col(\"Age\")<35), \"M26\")\\\n",
    "                                                .when((col(\"Gender\")==\"M\") & (col(\"Age\")<50), \"M35\")\\\n",
    "                                                .when((col(\"Gender\")==\"M\") & (col(\"Age\")>50), \"M50\")\\\n",
    "                                                .when((col(\"Gender\")==\"F\") & (col(\"Age\")<26), \"F18\")\\\n",
    "                                                .when((col(\"Gender\")==\"F\") & (col(\"Age\")<35), \"F26\")\\\n",
    "                                                .when((col(\"Gender\")==\"F\") & (col(\"Age\")<50), \"F35\")\\\n",
    "                                                .when((col(\"Gender\")==\"F\") & (col(\"Age\")>50), \"F50\"))\\\n",
    "                    .withColumn(\"FamilySegment\", when((col(\"Gender\")==\"M\") & (col(\"MartialStatus\")==\"married\") & (col(\"Kids\")>0), \"head of the family\")\\\n",
    "                                                .when((col(\"Gender\")==\"M\") & (col(\"MartialStatus\")==\"married\") & (col(\"Kids\")==0), \"husband\")\\\n",
    "                                                .when((col(\"Gender\")==\"M\") & (col(\"MartialStatus\")!=\"married\") & (col(\"Kids\")>0),\"father\")\\\n",
    "                                                .when((col(\"Gender\")==\"M\") & (col(\"MartialStatus\")!=\"married\"),\"single\")\\\n",
    "                                                .when((col(\"Gender\")==\"F\") & (col(\"MartialStatus\")==\"married\") & (col(\"Kids\")>0),\"mother&wife\")\\\n",
    "                                                .when((col(\"Gender\")==\"F\") & (col(\"MartialStatus\")==\"married\") & (col(\"Kids\")==0),\"wife\")\\\n",
    "                                                .when((col(\"Gender\")==\"F\") & (col(\"MartialStatus\")!=\"married\") & (col(\"Kids\")>0),\"single mother\")\\\n",
    "                                                .when((col(\"Gender\")==\"F\") & (col(\"MartialStatus\")!=\"married\"), \"single\"))\\\n",
    "                    .withColumn(\"DemographicSegment\",when(col(\"City\").isin([\"Warszawa\", \"Kraków\", \"Poznań\", \"Wrocław\", \"Łódź\", \"Gdańsk\"]), \"big city\")\\\n",
    "                                                .when(col(\"City\").isin([\"Katowice\", \"Szczecin\", \"Bydgoszcz\", \"Częstochowa\", \"Lublin\", \"Białystok\"]), \"city\")\\\n",
    "                                                .otherwise(\"small town/village\"))\n",
    "\n",
    "df = df_DimCustomer.join(df, on=\"CustomerID\", how=\"inner\")\n",
    "\n",
    "df.show()"
   ]
  },
  {
   "cell_type": "markdown",
   "metadata": {},
   "source": [
    "**Save results to parquet file**"
   ]
  },
  {
   "cell_type": "code",
   "execution_count": 21,
   "metadata": {},
   "outputs": [
    {
     "name": "stderr",
     "output_type": "stream",
     "text": [
      "c:\\Users\\Maciek\\AppData\\Local\\Programs\\Python\\Python310\\lib\\site-packages\\pyspark\\sql\\pandas\\types.py:563: FutureWarning: is_datetime64tz_dtype is deprecated and will be removed in a future version. Check `isinstance(dtype, pd.DatetimeTZDtype)` instead.\n",
      "  if not is_datetime64tz_dtype(pser.dtype):\n",
      "c:\\Users\\Maciek\\AppData\\Local\\Programs\\Python\\Python310\\lib\\site-packages\\pyspark\\sql\\pandas\\types.py:379: FutureWarning: is_datetime64tz_dtype is deprecated and will be removed in a future version. Check `isinstance(dtype, pd.DatetimeTZDtype)` instead.\n",
      "  if is_datetime64tz_dtype(s.dtype):\n",
      "c:\\Users\\Maciek\\AppData\\Local\\Programs\\Python\\Python310\\lib\\site-packages\\pyspark\\sql\\pandas\\types.py:563: FutureWarning: is_datetime64tz_dtype is deprecated and will be removed in a future version. Check `isinstance(dtype, pd.DatetimeTZDtype)` instead.\n",
      "  if not is_datetime64tz_dtype(pser.dtype):\n",
      "c:\\Users\\Maciek\\AppData\\Local\\Programs\\Python\\Python310\\lib\\site-packages\\pyspark\\sql\\pandas\\types.py:379: FutureWarning: is_datetime64tz_dtype is deprecated and will be removed in a future version. Check `isinstance(dtype, pd.DatetimeTZDtype)` instead.\n",
      "  if is_datetime64tz_dtype(s.dtype):\n",
      "c:\\Users\\Maciek\\AppData\\Local\\Programs\\Python\\Python310\\lib\\site-packages\\pyspark\\sql\\pandas\\types.py:563: FutureWarning: is_datetime64tz_dtype is deprecated and will be removed in a future version. Check `isinstance(dtype, pd.DatetimeTZDtype)` instead.\n",
      "  if not is_datetime64tz_dtype(pser.dtype):\n",
      "c:\\Users\\Maciek\\AppData\\Local\\Programs\\Python\\Python310\\lib\\site-packages\\pyspark\\sql\\pandas\\types.py:379: FutureWarning: is_datetime64tz_dtype is deprecated and will be removed in a future version. Check `isinstance(dtype, pd.DatetimeTZDtype)` instead.\n",
      "  if is_datetime64tz_dtype(s.dtype):\n",
      "c:\\Users\\Maciek\\AppData\\Local\\Programs\\Python\\Python310\\lib\\site-packages\\pyspark\\sql\\pandas\\types.py:563: FutureWarning: is_datetime64tz_dtype is deprecated and will be removed in a future version. Check `isinstance(dtype, pd.DatetimeTZDtype)` instead.\n",
      "  if not is_datetime64tz_dtype(pser.dtype):\n",
      "c:\\Users\\Maciek\\AppData\\Local\\Programs\\Python\\Python310\\lib\\site-packages\\pyspark\\sql\\pandas\\types.py:379: FutureWarning: is_datetime64tz_dtype is deprecated and will be removed in a future version. Check `isinstance(dtype, pd.DatetimeTZDtype)` instead.\n",
      "  if is_datetime64tz_dtype(s.dtype):\n"
     ]
    }
   ],
   "source": [
    "pandas_df = df.toPandas()\n",
    "table = pa.Table.from_pandas(pandas_df)\n",
    "pq.write_table(table, \"C:/Users/Maciek/Desktop/pyspark/result/customer_segmentation.parquet\")\n",
    "\n",
    "#df.write.mode(\"overwrite\").csv(\"C:/Users/Maciek/Desktop/pyspark/result/\", header=True)"
   ]
  }
 ],
 "metadata": {
  "kernelspec": {
   "display_name": "Python 3",
   "language": "python",
   "name": "python3"
  },
  "language_info": {
   "codemirror_mode": {
    "name": "ipython",
    "version": 3
   },
   "file_extension": ".py",
   "mimetype": "text/x-python",
   "name": "python",
   "nbconvert_exporter": "python",
   "pygments_lexer": "ipython3",
   "version": "3.10.0"
  }
 },
 "nbformat": 4,
 "nbformat_minor": 2
}
