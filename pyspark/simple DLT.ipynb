{
 "cells": [
  {
   "cell_type": "code",
   "execution_count": null,
   "id": "337cc359-ad77-428b-b30c-9b4cb9c8d6a0",
   "metadata": {},
   "outputs": [],
   "source": [
    "import dlt\n",
    "from pyspark.sql functions as F"
   ]
  },
  {
   "cell_type": "code",
   "execution_count": null,
   "id": "267b504d-91d3-4ea8-84ee-2a63e5418707",
   "metadata": {},
   "outputs": [],
   "source": [
    "schema = spark.read.format(\"csv\").option(\"header\",True).option(\"inferSchema\",True).load('/databricks-datasets/airlines/part-00000').schema\n",
    "airlines_df = spark.read.format(\"csv\").schema(schema).load('/databricks-datasets/airlines/')\n",
    "display(airlines_df)\n",
    "airlines_df.printSchema()"
   ]
  },
  {
   "cell_type": "code",
   "execution_count": null,
   "id": "b4765e70-1fb8-4a34-a89d-b9579925a7d8",
   "metadata": {},
   "outputs": [],
   "source": [
    "@dlt.create_table(comment=\"ingest airlanes raw data\")\n",
    "def airlines_raw():\n",
    "    return(\n",
    "        spark.read.format(\"csv\").schema(schema).load('/databricks-datasets/airlines/')\n",
    "        )"
   ]
  },
  {
   "cell_type": "code",
   "execution_count": null,
   "id": "4e87c31f-7632-40cb-90d1-cb7b87c82306",
   "metadata": {},
   "outputs": [],
   "source": [
    "@dlt.create_table(comment=\"filter rows\")\n",
    "@dlt.expect_or_drop(\"Origin in Boston\", \"(Origin == 'BOS')\")\n",
    "@dlt.expect_or_drop(\"Destination in San Francisco\", \"(Dest == 'SFO')\")\n",
    "@dlt.expect_or_drop(\"Only flight in XXI century\", \"(Year > 2000)\")\n",
    "def bos_sfo_flights():\n",
    "    return dlt.readStream(airlines_raw)"
   ]
  },
  {
   "cell_type": "code",
   "execution_count": null,
   "id": "5309d705-8879-4006-b3f6-0b2bafb5533e",
   "metadata": {},
   "outputs": [],
   "source": [
    "@dlt.create_table(comment=\"filter rows\")\n",
    "@dlt.expect_or_drop(\"Origin in San Francisco\", \"(Origin == 'SFO')\")\n",
    "@dlt.expect_or_drop(\"Destination in Boston\", \"(Dest == 'BOS')\")\n",
    "@dlt.expect_or_drop(\"Only flight in XXI century\", \"(Year > 2000)\")\n",
    "def sfo_bos_flights():\n",
    "    return dlt.readStream(airlines_raw)"
   ]
  },
  {
   "cell_type": "code",
   "execution_count": null,
   "id": "563fe1d3-59ee-4747-b5f1-29b5763d68d2",
   "metadata": {},
   "outputs": [],
   "source": [
    "@dlt.create_table()\n",
    "def bos_sfo_flights():\n",
    "    return(\n",
    "        dlt.read(\"bos_sfo_flights\")\n",
    "        .union(\n",
    "            dlt.read(\"sfo_bos_flights\")\n",
    "        )\n",
    "    )"
   ]
  }
 ],
 "metadata": {
  "kernelspec": {
   "display_name": "Python 3 (ipykernel)",
   "language": "python",
   "name": "python3"
  },
  "language_info": {
   "codemirror_mode": {
    "name": "ipython",
    "version": 3
   },
   "file_extension": ".py",
   "mimetype": "text/x-python",
   "name": "python",
   "nbconvert_exporter": "python",
   "pygments_lexer": "ipython3",
   "version": "3.10.0"
  }
 },
 "nbformat": 4,
 "nbformat_minor": 5
}
